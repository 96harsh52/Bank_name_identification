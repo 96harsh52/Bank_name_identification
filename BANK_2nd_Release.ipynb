{
  "nbformat": 4,
  "nbformat_minor": 0,
  "metadata": {
    "colab": {
      "name": "BANK2.ipynb",
      "provenance": [],
      "collapsed_sections": [],
      "authorship_tag": "ABX9TyNa2Xl5GDncm4WL3oVFJU1l",
      "include_colab_link": true
    },
    "kernelspec": {
      "name": "python3",
      "display_name": "Python 3"
    },
    "accelerator": "GPU"
  },
  "cells": [
    {
      "cell_type": "markdown",
      "metadata": {
        "id": "view-in-github",
        "colab_type": "text"
      },
      "source": [
        "<a href=\"https://colab.research.google.com/github/96harsh52/Bank_name_identification/blob/main/BANK_2nd_Release.ipynb\" target=\"_parent\"><img src=\"https://colab.research.google.com/assets/colab-badge.svg\" alt=\"Open In Colab\"/></a>"
      ]
    },
    {
      "cell_type": "code",
      "metadata": {
        "id": "o52MiHCUEfBG",
        "colab": {
          "base_uri": "https://localhost:8080/",
          "height": 122
        },
        "outputId": "826f65a5-3970-437a-ef92-a76310018818"
      },
      "source": [
        "from google.colab import drive\n",
        "drive.mount('/content/drive')"
      ],
      "execution_count": null,
      "outputs": [
        {
          "output_type": "stream",
          "text": [
            "Go to this URL in a browser: https://accounts.google.com/o/oauth2/auth?client_id=947318989803-6bn6qk8qdgf4n4g3pfee6491hc0brc4i.apps.googleusercontent.com&redirect_uri=urn%3aietf%3awg%3aoauth%3a2.0%3aoob&response_type=code&scope=email%20https%3a%2f%2fwww.googleapis.com%2fauth%2fdocs.test%20https%3a%2f%2fwww.googleapis.com%2fauth%2fdrive%20https%3a%2f%2fwww.googleapis.com%2fauth%2fdrive.photos.readonly%20https%3a%2f%2fwww.googleapis.com%2fauth%2fpeopleapi.readonly\n",
            "\n",
            "Enter your authorization code:\n",
            "··········\n",
            "Mounted at /content/drive\n"
          ],
          "name": "stdout"
        }
      ]
    },
    {
      "cell_type": "code",
      "metadata": {
        "id": "Rd2XGb76ExNy",
        "colab": {
          "base_uri": "https://localhost:8080/",
          "height": 34
        },
        "outputId": "1a180587-4557-4c30-9533-dd66229d3092"
      },
      "source": [
        "from keras.preprocessing.image import ImageDataGenerator \n",
        "from keras.models import Sequential \n",
        "from keras.layers import Conv2D, MaxPooling2D \n",
        "from keras.layers import Activation, Dropout, Flatten, Dense \n",
        "from keras import backend as K \n",
        "from matplotlib import pyplot as plt\n",
        "from keras.layers.normalization import BatchNormalization\n",
        "import matplotlib.pyplot as plt \n",
        "from keras.models import Sequential\n",
        "from keras.layers import Conv2D \n",
        "from keras.layers import MaxPooling2D\n",
        "from keras.layers import Dense\n",
        "from keras.layers import Flatten\n",
        "from keras.optimizers import SGD\n",
        "from keras.regularizers import l1_l2\n",
        "from keras.preprocessing.image import ImageDataGenerator"
      ],
      "execution_count": null,
      "outputs": [
        {
          "output_type": "stream",
          "text": [
            "Using TensorFlow backend.\n"
          ],
          "name": "stderr"
        }
      ]
    },
    {
      "cell_type": "code",
      "metadata": {
        "id": "TtmGNLOYFwFg"
      },
      "source": [
        "train_data_dir =  '/content/drive/My Drive/data1/'\n",
        "validation_data_dir = '/content/drive/My Drive/data set/'"
      ],
      "execution_count": null,
      "outputs": []
    },
    {
      "cell_type": "code",
      "metadata": {
        "id": "E4n3SjdEinJk"
      },
      "source": [
        "batch_size = 20\n",
        "img_width, img_height = 224,224"
      ],
      "execution_count": null,
      "outputs": []
    },
    {
      "cell_type": "code",
      "metadata": {
        "id": "MooWTMdL0imx",
        "colab": {
          "base_uri": "https://localhost:8080/",
          "height": 51
        },
        "outputId": "874ea325-4b61-44bd-f048-d3e86fe9348d"
      },
      "source": [
        "train_datagen = ImageDataGenerator(rotation_range=30,width_shift_range=0.1,height_shift_range=0.1,zoom_range=0.2,horizontal_flip=True,rescale = 1. / 255, \n",
        "                 shear_range = 0.3,fill_mode=\"nearest\",vertical_flip=True,data_format='channels_last')\n",
        "test_datagen = ImageDataGenerator(rescale = 1.0/ 255)\n",
        "\n",
        "train_generator = train_datagen.flow_from_directory(train_data_dir, color_mode='rgba',\n",
        "                             target_size =(img_width, img_height), batch_size = batch_size, class_mode ='categorical',\n",
        "                              save_format='jpeg',interpolation='nearest',shuffle=True) \n",
        "\n",
        "\n",
        "  \n",
        "validation_generator = test_datagen.flow_from_directory( validation_data_dir, color_mode='rgba',\n",
        "                             target_size =(img_width, img_height), batch_size = batch_size, class_mode ='categorical',\n",
        "                              save_format='jpeg',interpolation='nearest',shuffle=True)\n",
        "\n",
        "                  \n",
        "# if K.image_data_format() == 'channels_first':\n",
        "#   input_shape = (3, img_width, img_height)\n",
        "# else:\n",
        "#     input_shape = (img_width, img_height, 4) "
      ],
      "execution_count": null,
      "outputs": [
        {
          "output_type": "stream",
          "text": [
            "Found 1384 images belonging to 25 classes.\n",
            "Found 333 images belonging to 25 classes.\n"
          ],
          "name": "stdout"
        }
      ]
    },
    {
      "cell_type": "code",
      "metadata": {
        "id": "XTO2a2Xj55I4",
        "colab": {
          "base_uri": "https://localhost:8080/",
          "height": 1000
        },
        "outputId": "12650705-0daa-4f1d-a851-d368464d741a"
      },
      "source": [
        "model = Sequential()\n",
        "\n",
        "model.add(Conv2D(32, (3, 3), activation='relu', kernel_initializer='he_uniform', padding='same', input_shape=input_shape))\n",
        "model.add(Conv2D(32, (3, 3), activation='relu',padding='same',kernel_regularizer=l1_l2(0.01), bias_regularizer=l1_l2(0.01),kernel_initializer='glorot_uniform'))\n",
        "model.add(MaxPooling2D((2, 2)))\n",
        "model.add(Dropout(0.25))\n",
        "\n",
        "model.add(Conv2D(64, (3, 3), activation='relu', kernel_initializer='he_uniform', padding='same', input_shape=input_shape))\n",
        "model.add(Conv2D(64, (3, 3), activation='relu',padding='same',kernel_regularizer=l1_l2(0.01), bias_regularizer=l1_l2(0.01),kernel_initializer='glorot_uniform'))\n",
        "model.add(MaxPooling2D((2, 2)))\n",
        "model.add(Dropout(0.5))\n",
        "\n",
        "model.add(Conv2D(64, (3, 3), activation='relu',padding='same',kernel_regularizer=l1_l2(0.01), bias_regularizer=l1_l2(0.01),kernel_initializer='glorot_uniform'))\n",
        "model.add(Conv2D(64, (3, 3), activation='relu', kernel_initializer='he_uniform', padding='same'))\n",
        "model.add(MaxPooling2D((2, 2))) \n",
        "model.add(Dropout(0.5))\n",
        "\n",
        "model.add(Conv2D(128, (3, 3), activation='relu',padding='same',kernel_regularizer=l1_l2(0.01), bias_regularizer=l1_l2(0.01),kernel_initializer='glorot_uniform'))\n",
        "model.add(Conv2D(128, (3, 3), activation='relu', kernel_initializer='he_uniform', padding='same'))\n",
        "model.add(MaxPooling2D((2, 2)))\n",
        "\n",
        "model.add(Conv2D(128, (3, 3), activation='relu',padding='same',kernel_regularizer=l1_l2(0.01), bias_regularizer=l1_l2(0.01),kernel_initializer='glorot_uniform'))\n",
        "model.add(Conv2D(128, (3, 3), activation='relu',padding='same',kernel_regularizer=l1_l2(0.01), bias_regularizer=l1_l2(0.01),kernel_initializer='glorot_uniform'))\n",
        "model.add(MaxPooling2D((2, 2)))\n",
        "\n",
        "model.add(Conv2D(256, (3, 3), activation='relu',padding='same',kernel_regularizer=l1_l2(0.01), bias_regularizer=l1_l2(0.01),kernel_initializer='glorot_uniform'))\n",
        "model.add(Conv2D(256, (3, 3), activation='relu',padding='same',kernel_regularizer=l1_l2(0.01), bias_regularizer=l1_l2(0.01),kernel_initializer='glorot_uniform'))\n",
        "model.add(MaxPooling2D((2, 2)))\n",
        "model.add(Dropout(0.5))\n",
        "\n",
        "model.add(Flatten())\n",
        "model.add(Dense(256, activation='relu'))\n",
        "model.add(Dense(25, activation='softmax'))\n",
        "\n",
        "\n",
        "model.summary() "
      ],
      "execution_count": null,
      "outputs": [
        {
          "output_type": "stream",
          "text": [
            "Model: \"sequential_1\"\n",
            "_________________________________________________________________\n",
            "Layer (type)                 Output Shape              Param #   \n",
            "=================================================================\n",
            "conv2d_1 (Conv2D)            (None, 224, 224, 32)      1184      \n",
            "_________________________________________________________________\n",
            "conv2d_2 (Conv2D)            (None, 224, 224, 32)      9248      \n",
            "_________________________________________________________________\n",
            "max_pooling2d_1 (MaxPooling2 (None, 112, 112, 32)      0         \n",
            "_________________________________________________________________\n",
            "dropout_1 (Dropout)          (None, 112, 112, 32)      0         \n",
            "_________________________________________________________________\n",
            "conv2d_3 (Conv2D)            (None, 112, 112, 64)      18496     \n",
            "_________________________________________________________________\n",
            "conv2d_4 (Conv2D)            (None, 112, 112, 64)      36928     \n",
            "_________________________________________________________________\n",
            "max_pooling2d_2 (MaxPooling2 (None, 56, 56, 64)        0         \n",
            "_________________________________________________________________\n",
            "dropout_2 (Dropout)          (None, 56, 56, 64)        0         \n",
            "_________________________________________________________________\n",
            "conv2d_5 (Conv2D)            (None, 56, 56, 64)        36928     \n",
            "_________________________________________________________________\n",
            "conv2d_6 (Conv2D)            (None, 56, 56, 64)        36928     \n",
            "_________________________________________________________________\n",
            "max_pooling2d_3 (MaxPooling2 (None, 28, 28, 64)        0         \n",
            "_________________________________________________________________\n",
            "dropout_3 (Dropout)          (None, 28, 28, 64)        0         \n",
            "_________________________________________________________________\n",
            "conv2d_7 (Conv2D)            (None, 28, 28, 128)       73856     \n",
            "_________________________________________________________________\n",
            "conv2d_8 (Conv2D)            (None, 28, 28, 128)       147584    \n",
            "_________________________________________________________________\n",
            "max_pooling2d_4 (MaxPooling2 (None, 14, 14, 128)       0         \n",
            "_________________________________________________________________\n",
            "conv2d_9 (Conv2D)            (None, 14, 14, 128)       147584    \n",
            "_________________________________________________________________\n",
            "conv2d_10 (Conv2D)           (None, 14, 14, 128)       147584    \n",
            "_________________________________________________________________\n",
            "max_pooling2d_5 (MaxPooling2 (None, 7, 7, 128)         0         \n",
            "_________________________________________________________________\n",
            "conv2d_11 (Conv2D)           (None, 7, 7, 256)         295168    \n",
            "_________________________________________________________________\n",
            "conv2d_12 (Conv2D)           (None, 7, 7, 256)         590080    \n",
            "_________________________________________________________________\n",
            "max_pooling2d_6 (MaxPooling2 (None, 3, 3, 256)         0         \n",
            "_________________________________________________________________\n",
            "dropout_4 (Dropout)          (None, 3, 3, 256)         0         \n",
            "_________________________________________________________________\n",
            "flatten_1 (Flatten)          (None, 2304)              0         \n",
            "_________________________________________________________________\n",
            "dense_1 (Dense)              (None, 256)               590080    \n",
            "_________________________________________________________________\n",
            "dense_2 (Dense)              (None, 25)                6425      \n",
            "=================================================================\n",
            "Total params: 2,138,073\n",
            "Trainable params: 2,138,073\n",
            "Non-trainable params: 0\n",
            "_________________________________________________________________\n"
          ],
          "name": "stdout"
        }
      ]
    },
    {
      "cell_type": "code",
      "metadata": {
        "id": "RNZUODUSl08Q"
      },
      "source": [
        ""
      ],
      "execution_count": null,
      "outputs": []
    },
    {
      "cell_type": "code",
      "metadata": {
        "id": "4MVLWswB1Jbd",
        "colab": {
          "base_uri": "https://localhost:8080/",
          "height": 1000
        },
        "outputId": "6540b902-7f0a-4419-894f-686d2e214680"
      },
      "source": [
        "model.compile(\n",
        "loss ='categorical_crossentropy', \n",
        "                     optimizer ='Adam', \n",
        "                   metrics =['accuracy']) \n",
        "\n",
        "# DATA ARGUMANTETIONS \n",
        "\n",
        "# featurewise_center=False, samplewise_center=False, featurewise_std_normalization=False, samplewise_std_normalization=False, zca_whitening=False, zca_epsilon=1e-06,\n",
        "#  rotation_range=0, width_shift_range=0.0, height_shift_range=0.0, brightness_range=None, shear_range=0.0, zoom_range=0.0, channel_shift_range=0.0, fill_mode='nearest', cval=0.0,\n",
        "#  horizontal_flip=False, vertical_flip=False, rescale=None, preprocessing_function=None, data_format='channels_last', validation_split=0.0, interpolation_order=1, dtype='float32'\n",
        "\n",
        "history = model.fit_generator(train_generator,\n",
        "                              validation_data=validation_generator,\n",
        "                              steps_per_epoch=40,\n",
        "                              epochs=50,\n",
        "                              validation_steps=40,\n",
        "                              verbose=1)"
      ],
      "execution_count": null,
      "outputs": [
        {
          "output_type": "stream",
          "text": [
            "Epoch 1/50\n",
            "40/40 [==============================] - 479s 12s/step - loss: 132.8598 - accuracy: 0.1199 - val_loss: 30.8640 - val_accuracy: 0.0420\n",
            "Epoch 2/50\n",
            "40/40 [==============================] - 268s 7s/step - loss: 13.7447 - accuracy: 0.1375 - val_loss: 6.8087 - val_accuracy: 0.0382\n",
            "Epoch 3/50\n",
            "40/40 [==============================] - 24s 588ms/step - loss: 5.3694 - accuracy: 0.1365 - val_loss: 5.3619 - val_accuracy: 0.0449\n",
            "Epoch 4/50\n",
            "40/40 [==============================] - 23s 575ms/step - loss: 4.8052 - accuracy: 0.1375 - val_loss: 5.0534 - val_accuracy: 0.0420\n",
            "Epoch 5/50\n",
            "40/40 [==============================] - 24s 593ms/step - loss: 4.7102 - accuracy: 0.1390 - val_loss: 4.9576 - val_accuracy: 0.0433\n",
            "Epoch 6/50\n",
            "40/40 [==============================] - 25s 632ms/step - loss: 4.6545 - accuracy: 0.1388 - val_loss: 5.0244 - val_accuracy: 0.0424\n",
            "Epoch 7/50\n",
            "40/40 [==============================] - 23s 576ms/step - loss: 4.6904 - accuracy: 0.1441 - val_loss: 4.7573 - val_accuracy: 0.0433\n",
            "Epoch 8/50\n",
            "40/40 [==============================] - 24s 610ms/step - loss: 4.6120 - accuracy: 0.1375 - val_loss: 4.7848 - val_accuracy: 0.0356\n",
            "Epoch 9/50\n",
            "40/40 [==============================] - 24s 592ms/step - loss: 4.6730 - accuracy: 0.1212 - val_loss: 4.8038 - val_accuracy: 0.0462\n",
            "Epoch 10/50\n",
            "40/40 [==============================] - 23s 579ms/step - loss: 4.6293 - accuracy: 0.1365 - val_loss: 5.1602 - val_accuracy: 0.0407\n",
            "Epoch 11/50\n",
            "40/40 [==============================] - 25s 631ms/step - loss: 4.6104 - accuracy: 0.1475 - val_loss: 5.0124 - val_accuracy: 0.0433\n",
            "Epoch 12/50\n",
            "40/40 [==============================] - 24s 594ms/step - loss: 4.6084 - accuracy: 0.1429 - val_loss: 4.7812 - val_accuracy: 0.0436\n",
            "Epoch 13/50\n",
            "40/40 [==============================] - 24s 609ms/step - loss: 4.6028 - accuracy: 0.1375 - val_loss: 4.8909 - val_accuracy: 0.0407\n",
            "Epoch 14/50\n",
            "40/40 [==============================] - 24s 604ms/step - loss: 4.6246 - accuracy: 0.1416 - val_loss: 4.9249 - val_accuracy: 0.0407\n",
            "Epoch 15/50\n",
            "40/40 [==============================] - 24s 606ms/step - loss: 4.6011 - accuracy: 0.1425 - val_loss: 5.0061 - val_accuracy: 0.0449\n",
            "Epoch 16/50\n",
            "40/40 [==============================] - 24s 598ms/step - loss: 4.5882 - accuracy: 0.1403 - val_loss: 4.6016 - val_accuracy: 0.0433\n",
            "Epoch 17/50\n",
            "40/40 [==============================] - 24s 603ms/step - loss: 4.6217 - accuracy: 0.1199 - val_loss: 4.8278 - val_accuracy: 0.0398\n",
            "Epoch 18/50\n",
            "40/40 [==============================] - 23s 579ms/step - loss: 4.5830 - accuracy: 0.1363 - val_loss: 4.8521 - val_accuracy: 0.0433\n",
            "Epoch 19/50\n",
            "40/40 [==============================] - 24s 589ms/step - loss: 4.5852 - accuracy: 0.1441 - val_loss: 4.9751 - val_accuracy: 0.0407\n",
            "Epoch 20/50\n",
            "40/40 [==============================] - 26s 641ms/step - loss: 4.6100 - accuracy: 0.1300 - val_loss: 4.9617 - val_accuracy: 0.0436\n",
            "Epoch 21/50\n",
            "40/40 [==============================] - 22s 553ms/step - loss: 4.5696 - accuracy: 0.1467 - val_loss: 4.9807 - val_accuracy: 0.0407\n",
            "Epoch 22/50\n",
            "40/40 [==============================] - 24s 606ms/step - loss: 4.5667 - accuracy: 0.1454 - val_loss: 4.7238 - val_accuracy: 0.0420\n",
            "Epoch 23/50\n",
            "40/40 [==============================] - 24s 596ms/step - loss: 4.5690 - accuracy: 0.1437 - val_loss: 5.0233 - val_accuracy: 0.0424\n",
            "Epoch 24/50\n",
            "40/40 [==============================] - 23s 582ms/step - loss: 4.5748 - accuracy: 0.1327 - val_loss: 4.8866 - val_accuracy: 0.0407\n",
            "Epoch 25/50\n",
            "40/40 [==============================] - 23s 587ms/step - loss: 4.5858 - accuracy: 0.1363 - val_loss: 4.9207 - val_accuracy: 0.0445\n",
            "Epoch 26/50\n",
            "40/40 [==============================] - 25s 620ms/step - loss: 4.5772 - accuracy: 0.1441 - val_loss: 5.0701 - val_accuracy: 0.0385\n",
            "Epoch 27/50\n",
            "40/40 [==============================] - 24s 603ms/step - loss: 4.5825 - accuracy: 0.1388 - val_loss: 4.9724 - val_accuracy: 0.0407\n",
            "Epoch 28/50\n",
            "40/40 [==============================] - 24s 611ms/step - loss: 4.5870 - accuracy: 0.1352 - val_loss: 4.9511 - val_accuracy: 0.0458\n",
            "Epoch 29/50\n",
            "40/40 [==============================] - 24s 597ms/step - loss: 4.5814 - accuracy: 0.1390 - val_loss: 4.6524 - val_accuracy: 0.0462\n",
            "Epoch 30/50\n",
            "40/40 [==============================] - 24s 601ms/step - loss: 4.5751 - accuracy: 0.1425 - val_loss: 4.4640 - val_accuracy: 0.0382\n",
            "Epoch 31/50\n",
            "40/40 [==============================] - 24s 602ms/step - loss: 4.5914 - accuracy: 0.1300 - val_loss: 5.0215 - val_accuracy: 0.0420\n",
            "Epoch 32/50\n",
            "40/40 [==============================] - 24s 592ms/step - loss: 4.5524 - accuracy: 0.1497 - val_loss: 4.8023 - val_accuracy: 0.0436\n",
            "Epoch 33/50\n",
            "40/40 [==============================] - 24s 593ms/step - loss: 4.6028 - accuracy: 0.1425 - val_loss: 5.0211 - val_accuracy: 0.0382\n",
            "Epoch 34/50\n",
            "40/40 [==============================] - 25s 619ms/step - loss: 4.5708 - accuracy: 0.1441 - val_loss: 5.0340 - val_accuracy: 0.0436\n",
            "Epoch 35/50\n",
            "40/40 [==============================] - 23s 577ms/step - loss: 4.5956 - accuracy: 0.1300 - val_loss: 4.8404 - val_accuracy: 0.0407\n",
            "Epoch 36/50\n",
            "40/40 [==============================] - 24s 600ms/step - loss: 4.5696 - accuracy: 0.1500 - val_loss: 4.7975 - val_accuracy: 0.0394\n",
            "Epoch 37/50\n",
            "40/40 [==============================] - 25s 623ms/step - loss: 4.5600 - accuracy: 0.1288 - val_loss: 5.0351 - val_accuracy: 0.0475\n",
            "Epoch 38/50\n",
            "40/40 [==============================] - 22s 559ms/step - loss: 4.6142 - accuracy: 0.1276 - val_loss: 5.0900 - val_accuracy: 0.0445\n",
            "Epoch 39/50\n",
            "40/40 [==============================] - 24s 606ms/step - loss: 4.6148 - accuracy: 0.1363 - val_loss: 5.0442 - val_accuracy: 0.0382\n",
            "Epoch 40/50\n",
            "40/40 [==============================] - 24s 602ms/step - loss: 4.5411 - accuracy: 0.1600 - val_loss: 5.1715 - val_accuracy: 0.0436\n",
            "Epoch 41/50\n",
            "40/40 [==============================] - 24s 604ms/step - loss: 4.6096 - accuracy: 0.1341 - val_loss: 4.9878 - val_accuracy: 0.0407\n",
            "Epoch 42/50\n",
            "40/40 [==============================] - 24s 595ms/step - loss: 4.6037 - accuracy: 0.1388 - val_loss: 4.9069 - val_accuracy: 0.0420\n",
            "Epoch 43/50\n",
            "40/40 [==============================] - 24s 597ms/step - loss: 4.5784 - accuracy: 0.1450 - val_loss: 4.9969 - val_accuracy: 0.0411\n",
            "Epoch 44/50\n",
            "40/40 [==============================] - 24s 589ms/step - loss: 4.5828 - accuracy: 0.1441 - val_loss: 5.2862 - val_accuracy: 0.0433\n",
            "Epoch 45/50\n",
            "40/40 [==============================] - 24s 597ms/step - loss: 4.6042 - accuracy: 0.1365 - val_loss: 5.0606 - val_accuracy: 0.0433\n",
            "Epoch 46/50\n",
            "40/40 [==============================] - 25s 629ms/step - loss: 4.6262 - accuracy: 0.1287 - val_loss: 4.8431 - val_accuracy: 0.0398\n",
            "Epoch 47/50\n",
            "40/40 [==============================] - 23s 580ms/step - loss: 4.5633 - accuracy: 0.1467 - val_loss: 4.9455 - val_accuracy: 0.0433\n",
            "Epoch 48/50\n",
            "40/40 [==============================] - 25s 630ms/step - loss: 4.6086 - accuracy: 0.1462 - val_loss: 4.9226 - val_accuracy: 0.0407\n",
            "Epoch 49/50\n",
            "40/40 [==============================] - 25s 621ms/step - loss: 4.5851 - accuracy: 0.1288 - val_loss: 5.0114 - val_accuracy: 0.0436\n",
            "Epoch 50/50\n",
            "40/40 [==============================] - 24s 609ms/step - loss: 4.6294 - accuracy: 0.1352 - val_loss: 4.9123 - val_accuracy: 0.0420\n"
          ],
          "name": "stdout"
        }
      ]
    },
    {
      "cell_type": "code",
      "metadata": {
        "id": "Mrzpr6bw1VgS",
        "colab": {
          "base_uri": "https://localhost:8080/",
          "height": 390
        },
        "outputId": "895c0360-b905-4424-fdbf-4b96a91fff6f"
      },
      "source": [
        "import tensorflow as tf\n",
        "from tensorflow import keras\n",
        "import h5py\n",
        "\n",
        "model.save('BANK2.h5')\n",
        "loaded_model = keras.models.load_model('BANK2.h5')\n",
        "\n",
        "\n",
        "acc = history.history['accuracy']\n",
        "val_acc = history.history['val_accuracy']\n",
        "\n",
        "loss = history.history['loss']\n",
        "val_loss = history.history['val_loss']\n",
        "\n",
        "epochs_range = range(50)#CHANGE AS PER NO.OF EPOCHES \n",
        "\n",
        "plt.figure(figsize=(15, 6))\n",
        "plt.subplot(1, 2, 1)\n",
        "plt.plot(epochs_range, acc, label='Training Accuracy')\n",
        "plt.plot(epochs_range, val_acc, label='Validation Accuracy')\n",
        "plt.legend(loc='lower right')\n",
        "plt.title('Training and Validation Accuracy')\n",
        "\n",
        "plt.subplot(1, 2, 2)\n",
        "plt.plot(epochs_range, loss, label='Training Loss')\n",
        "plt.plot(epochs_range, val_loss, label='Validation Loss')\n",
        "plt.legend(loc='upper right')\n",
        "plt.title('Training and Validation Loss')\n",
        "plt.show()"
      ],
      "execution_count": null,
      "outputs": [
        {
          "output_type": "display_data",
          "data": {
            "image/png": "[encoded data removed]",
            "text/plain": [
              "<Figure size 1080x432 with 2 Axes>"
            ]
          },
          "metadata": {
            "tags": [],
            "needs_background": "light"
          }
        }
      ]
    },
    {
      "cell_type": "code",
      "metadata": {
        "id": "15mBV4facu4h"
      },
      "source": [
        ""
      ],
      "execution_count": null,
      "outputs": []
    }
  ]
}