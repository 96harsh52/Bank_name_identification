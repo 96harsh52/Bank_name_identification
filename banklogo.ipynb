{
  "nbformat": 4,
  "nbformat_minor": 0,
  "metadata": {
    "colab": {
      "name": "banklogo.ipynb",
      "provenance": [],
      "collapsed_sections": [],
      "include_colab_link": true
    },
    "kernelspec": {
      "name": "python3",
      "display_name": "Python 3"
    },
    "accelerator": "GPU"
  },
  "cells": [
    {
      "cell_type": "markdown",
      "metadata": {
        "id": "view-in-github",
        "colab_type": "text"
      },
      "source": [
        "<a href=\"https://colab.research.google.com/github/96harsh52/Bank_name_identification/blob/main/banklogo.ipynb\" target=\"_parent\"><img src=\"https://colab.research.google.com/assets/colab-badge.svg\" alt=\"Open In Colab\"/></a>"
      ]
    },
    {
      "cell_type": "markdown",
      "metadata": {
        "id": "4NV2R9EVkIMQ"
      },
      "source": [
        "## file acess from drive "
      ]
    },
    {
      "cell_type": "code",
      "metadata": {
        "id": "BqVxECOfrBjF",
        "colab": {
          "base_uri": "https://localhost:8080/"
        },
        "outputId": "2ef2b18e-d4ed-48d7-9d51-310b7ad40693"
      },
      "source": [
        "from google.colab import drive\n",
        "drive.mount('/content/drive')"
      ],
      "execution_count": null,
      "outputs": [
        {
          "output_type": "stream",
          "name": "stdout",
          "text": [
            "Mounted at /content/drive\n"
          ]
        }
      ]
    },
    {
      "cell_type": "code",
      "metadata": {
        "id": "CgxY7dLOt21C"
      },
      "source": [
        "from keras.preprocessing.image import ImageDataGenerator \n",
        "from keras.models import Sequential \n",
        "from keras.layers import Conv2D, MaxPooling2D \n",
        "from keras.layers import Activation, Dropout, Flatten, Dense \n",
        "from keras import backend as K \n",
        "from matplotlib import pyplot as plt\n",
        "from keras.layers import LayerNormalization\n",
        "import matplotlib.pyplot as plt \n",
        "from keras.models import Sequential\n",
        "from keras.layers import Conv2D \n",
        "from keras.layers import MaxPooling2D\n",
        "from keras.layers import Dense\n",
        "from keras.layers import Flatten\n",
        "from tensorflow.keras.optimizers import SGD\n",
        "from keras.regularizers import l1_l2\n",
        "from keras.preprocessing.image import ImageDataGenerator"
      ],
      "execution_count": null,
      "outputs": []
    },
    {
      "cell_type": "code",
      "metadata": {
        "id": "sFBaIwK9t2_Z"
      },
      "source": [
        "img_width, img_height = 224,224\n",
        "  \n",
        "train_data_dir = '/content/drive/My Drive/Traning/'\n",
        "validation_data_dir ='/content/drive/My Drive/Test/'\n"
      ],
      "execution_count": null,
      "outputs": []
    },
    {
      "cell_type": "code",
      "metadata": {
        "id": "G7SkJ2Nat6uE",
        "colab": {
          "base_uri": "https://localhost:8080/",
          "height": 387
        },
        "outputId": "0d5e1176-a97e-4092-9d3d-5a310636a320"
      },
      "source": [
        "train_datagen = ImageDataGenerator(rescale = 1./255,featurewise_center=False, samplewise_center=False, featurewise_std_normalization=False, \n",
        "                                   samplewise_std_normalization=False,\n",
        "                                   shear_range = 0.2,rotation_range=40,width_shift_range=0.1,height_shift_range=0.1,\n",
        "                                   zoom_range=0.2, \n",
        "                                  vertical_flip=True,\n",
        "                                   horizontal_flip = True,fill_mode='nearest')\n",
        "\n",
        "test_datagen = ImageDataGenerator(rescale = 1.0/ 255)\n",
        "\n",
        "\n",
        "train_generator = test_datagen.flow_from_directory(train_data_dir,target_size =(img_width, img_height), color_mode='rgba',\n",
        "                     batch_size = 15,save_format='jpg', class_mode ='categorical',interpolation='nearest')\n",
        " \n",
        "validation_generator = test_datagen.flow_from_directory( validation_data_dir, target_size =(img_width, img_height), color_mode='rgba',\n",
        "                           batch_size = 15, class_mode ='categorical',interpolation='nearest') "
      ],
      "execution_count": null,
      "outputs": [
        {
          "output_type": "error",
          "ename": "FileNotFoundError",
          "evalue": "ignored",
          "traceback": [
            "\u001b[0;31m---------------------------------------------------------------------------\u001b[0m",
            "\u001b[0;31mFileNotFoundError\u001b[0m                         Traceback (most recent call last)",
            "\u001b[0;32m<ipython-input-6-4900dbcc5c3b>\u001b[0m in \u001b[0;36m<module>\u001b[0;34m()\u001b[0m\n\u001b[1;32m     10\u001b[0m \u001b[0;34m\u001b[0m\u001b[0m\n\u001b[1;32m     11\u001b[0m train_generator = test_datagen.flow_from_directory(train_data_dir,target_size =(img_width, img_height), color_mode='rgba',\n\u001b[0;32m---> 12\u001b[0;31m                      batch_size = 15,save_format='jpg', class_mode ='categorical',interpolation='nearest')\n\u001b[0m\u001b[1;32m     13\u001b[0m \u001b[0;34m\u001b[0m\u001b[0m\n\u001b[1;32m     14\u001b[0m validation_generator = test_datagen.flow_from_directory( validation_data_dir, target_size =(img_width, img_height), color_mode='rgba',\n",
            "\u001b[0;32m/usr/local/lib/python3.7/dist-packages/keras/preprocessing/image.py\u001b[0m in \u001b[0;36mflow_from_directory\u001b[0;34m(self, directory, target_size, color_mode, classes, class_mode, batch_size, shuffle, seed, save_to_dir, save_prefix, save_format, follow_links, subset, interpolation)\u001b[0m\n\u001b[1;32m    990\u001b[0m         \u001b[0mfollow_links\u001b[0m\u001b[0;34m=\u001b[0m\u001b[0mfollow_links\u001b[0m\u001b[0;34m,\u001b[0m\u001b[0;34m\u001b[0m\u001b[0;34m\u001b[0m\u001b[0m\n\u001b[1;32m    991\u001b[0m         \u001b[0msubset\u001b[0m\u001b[0;34m=\u001b[0m\u001b[0msubset\u001b[0m\u001b[0;34m,\u001b[0m\u001b[0;34m\u001b[0m\u001b[0;34m\u001b[0m\u001b[0m\n\u001b[0;32m--> 992\u001b[0;31m         interpolation=interpolation)\n\u001b[0m\u001b[1;32m    993\u001b[0m \u001b[0;34m\u001b[0m\u001b[0m\n\u001b[1;32m    994\u001b[0m   def flow_from_dataframe(self,\n",
            "\u001b[0;32m/usr/local/lib/python3.7/dist-packages/keras/preprocessing/image.py\u001b[0m in \u001b[0;36m__init__\u001b[0;34m(self, directory, image_data_generator, target_size, color_mode, classes, class_mode, batch_size, shuffle, seed, data_format, save_to_dir, save_prefix, save_format, follow_links, subset, interpolation, dtype)\u001b[0m\n\u001b[1;32m    408\u001b[0m         \u001b[0msubset\u001b[0m\u001b[0;34m=\u001b[0m\u001b[0msubset\u001b[0m\u001b[0;34m,\u001b[0m\u001b[0;34m\u001b[0m\u001b[0;34m\u001b[0m\u001b[0m\n\u001b[1;32m    409\u001b[0m         \u001b[0minterpolation\u001b[0m\u001b[0;34m=\u001b[0m\u001b[0minterpolation\u001b[0m\u001b[0;34m,\u001b[0m\u001b[0;34m\u001b[0m\u001b[0;34m\u001b[0m\u001b[0m\n\u001b[0;32m--> 410\u001b[0;31m         **kwargs)\n\u001b[0m\u001b[1;32m    411\u001b[0m \u001b[0;34m\u001b[0m\u001b[0m\n\u001b[1;32m    412\u001b[0m \u001b[0;34m\u001b[0m\u001b[0m\n",
            "\u001b[0;32m/usr/local/lib/python3.7/dist-packages/keras_preprocessing/image/directory_iterator.py\u001b[0m in \u001b[0;36m__init__\u001b[0;34m(self, directory, image_data_generator, target_size, color_mode, classes, class_mode, batch_size, shuffle, seed, data_format, save_to_dir, save_prefix, save_format, follow_links, subset, interpolation, dtype)\u001b[0m\n\u001b[1;32m    113\u001b[0m         \u001b[0;32mif\u001b[0m \u001b[0;32mnot\u001b[0m \u001b[0mclasses\u001b[0m\u001b[0;34m:\u001b[0m\u001b[0;34m\u001b[0m\u001b[0;34m\u001b[0m\u001b[0m\n\u001b[1;32m    114\u001b[0m             \u001b[0mclasses\u001b[0m \u001b[0;34m=\u001b[0m \u001b[0;34m[\u001b[0m\u001b[0;34m]\u001b[0m\u001b[0;34m\u001b[0m\u001b[0;34m\u001b[0m\u001b[0m\n\u001b[0;32m--> 115\u001b[0;31m             \u001b[0;32mfor\u001b[0m \u001b[0msubdir\u001b[0m \u001b[0;32min\u001b[0m \u001b[0msorted\u001b[0m\u001b[0;34m(\u001b[0m\u001b[0mos\u001b[0m\u001b[0;34m.\u001b[0m\u001b[0mlistdir\u001b[0m\u001b[0;34m(\u001b[0m\u001b[0mdirectory\u001b[0m\u001b[0;34m)\u001b[0m\u001b[0;34m)\u001b[0m\u001b[0;34m:\u001b[0m\u001b[0;34m\u001b[0m\u001b[0;34m\u001b[0m\u001b[0m\n\u001b[0m\u001b[1;32m    116\u001b[0m                 \u001b[0;32mif\u001b[0m \u001b[0mos\u001b[0m\u001b[0;34m.\u001b[0m\u001b[0mpath\u001b[0m\u001b[0;34m.\u001b[0m\u001b[0misdir\u001b[0m\u001b[0;34m(\u001b[0m\u001b[0mos\u001b[0m\u001b[0;34m.\u001b[0m\u001b[0mpath\u001b[0m\u001b[0;34m.\u001b[0m\u001b[0mjoin\u001b[0m\u001b[0;34m(\u001b[0m\u001b[0mdirectory\u001b[0m\u001b[0;34m,\u001b[0m \u001b[0msubdir\u001b[0m\u001b[0;34m)\u001b[0m\u001b[0;34m)\u001b[0m\u001b[0;34m:\u001b[0m\u001b[0;34m\u001b[0m\u001b[0;34m\u001b[0m\u001b[0m\n\u001b[1;32m    117\u001b[0m                     \u001b[0mclasses\u001b[0m\u001b[0;34m.\u001b[0m\u001b[0mappend\u001b[0m\u001b[0;34m(\u001b[0m\u001b[0msubdir\u001b[0m\u001b[0;34m)\u001b[0m\u001b[0;34m\u001b[0m\u001b[0;34m\u001b[0m\u001b[0m\n",
            "\u001b[0;31mFileNotFoundError\u001b[0m: [Errno 2] No such file or directory: '/content/drive/My Drive/Traning/'"
          ]
        }
      ]
    },
    {
      "cell_type": "code",
      "metadata": {
        "id": "2XSZ7IVPt6ZW"
      },
      "source": [
        " if K.image_data_format() == 'channels_first': \n",
        "    input_shape = (4, img_width, img_height) \n",
        "else: \n",
        "    input_shape = (img_width, img_height, 4) "
      ],
      "execution_count": null,
      "outputs": []
    },
    {
      "cell_type": "code",
      "metadata": {
        "id": "Wp_Y3BC5t6hR",
        "colab": {
          "base_uri": "https://localhost:8080/",
          "height": 935
        },
        "outputId": "65e69e64-02d2-4cdb-9799-4848d111b41f"
      },
      "source": [
        "model = Sequential()\n",
        "\n",
        "model.add(Conv2D(32, (3, 3), activation='relu',kernel_regularizer=l1_l2(0.01), bias_regularizer=l1_l2(0.01),kernel_initializer='glorot_uniform', padding='same', input_shape=input_shape))\n",
        "model.add(MaxPooling2D((2, 2)))\n",
        "# model.add(Dropout(0.25))\n",
        "\n",
        "\n",
        "model.add(Conv2D(64, (3, 3), activation='relu',padding='same',kernel_regularizer=l1_l2(0.01), bias_regularizer=l1_l2(0.01),kernel_initializer='glorot_uniform'))\n",
        "model.add(MaxPooling2D((2, 2)))\n",
        "# model.add(Dropout(0.5))\n",
        "\n",
        "\n",
        "model.add(Conv2D(64, (3, 3), activation='LeakyReLU',padding='same',kernel_regularizer=l1_l2(0.01), bias_regularizer=l1_l2(0.01),kernel_initializer='glorot_uniform'))\n",
        "model.add(BatchNormalization(axis=-1, epsilon=0.001,moving_mean_initializer='zeros', moving_variance_initializer='ones'))\n",
        "model.add(MaxPooling2D((2, 2))) \n",
        "# model.add(Dropout(0.5))\n",
        "\n",
        "\n",
        "model.add(Conv2D(128, (3, 3), activation='relu',padding='same',kernel_regularizer=l1_l2(0.01), bias_regularizer=l1_l2(0.01),kernel_initializer='glorot_uniform'))\n",
        "model.add(BatchNormalization(axis=-1, epsilon=0.001,moving_mean_initializer='zeros', moving_variance_initializer='ones'))\n",
        "model.add(MaxPooling2D((2, 2)))\n",
        "\n",
        "\n",
        "model.add(Conv2D(128, (3, 3), activation='relu',padding='same',kernel_regularizer=l1_l2(0.01), bias_regularizer=l1_l2(0.01),kernel_initializer='glorot_uniform'))\n",
        "model.add(BatchNormalization(axis=-1, epsilon=0.001,moving_mean_initializer='zeros', moving_variance_initializer='ones'))\n",
        "model.add(MaxPooling2D((2, 2)))\n",
        "\n",
        "\n",
        "model.add(Conv2D(128, (3, 3), activation='relu',padding='same',kernel_regularizer=l1_l2(0.01), bias_regularizer=l1_l2(0.01),kernel_initializer='glorot_uniform'))\n",
        "model.add(BatchNormalization(axis=-1, epsilon=0.001,moving_mean_initializer='zeros', moving_variance_initializer='ones'))\n",
        "model.add(MaxPooling2D((2, 2)))\n",
        "\n",
        "\n",
        "model.add(Conv2D(512, (3, 3), activation='relu',padding='same',kernel_regularizer=l1_l2(0.01), bias_regularizer=l1_l2(0.01),kernel_initializer='glorot_uniform'))\n",
        "model.add(BatchNormalization(axis=-1, epsilon=0.001,moving_mean_initializer='zeros', moving_variance_initializer='ones'))\n",
        "model.add(MaxPooling2D((2, 2)))\n",
        "# model.add(Dropout(0.5))\n",
        "\n",
        "model.add(Flatten())\n",
        "model.add(Dense(256, activation='relu'))\n",
        "model.add(Dense(25, activation='softmax'))\n",
        "\n",
        "\n",
        "model.summary() "
      ],
      "execution_count": null,
      "outputs": [
        {
          "output_type": "stream",
          "text": [
            "Model: \"sequential_3\"\n",
            "_________________________________________________________________\n",
            "Layer (type)                 Output Shape              Param #   \n",
            "=================================================================\n",
            "conv2d_7 (Conv2D)            (None, 224, 224, 32)      1184      \n",
            "_________________________________________________________________\n",
            "max_pooling2d_7 (MaxPooling2 (None, 112, 112, 32)      0         \n",
            "_________________________________________________________________\n",
            "dropout_5 (Dropout)          (None, 112, 112, 32)      0         \n",
            "_________________________________________________________________\n",
            "conv2d_8 (Conv2D)            (None, 112, 112, 64)      18496     \n",
            "_________________________________________________________________\n",
            "max_pooling2d_8 (MaxPooling2 (None, 56, 56, 64)        0         \n",
            "_________________________________________________________________\n",
            "dropout_6 (Dropout)          (None, 56, 56, 64)        0         \n",
            "_________________________________________________________________\n",
            "conv2d_9 (Conv2D)            (None, 56, 56, 64)        36928     \n",
            "_________________________________________________________________\n",
            "batch_normalization_5 (Batch (None, 56, 56, 64)        256       \n",
            "_________________________________________________________________\n",
            "max_pooling2d_9 (MaxPooling2 (None, 28, 28, 64)        0         \n",
            "_________________________________________________________________\n",
            "dropout_7 (Dropout)          (None, 28, 28, 64)        0         \n",
            "_________________________________________________________________\n",
            "conv2d_10 (Conv2D)           (None, 28, 28, 128)       73856     \n",
            "_________________________________________________________________\n",
            "batch_normalization_6 (Batch (None, 28, 28, 128)       512       \n",
            "_________________________________________________________________\n",
            "max_pooling2d_10 (MaxPooling (None, 14, 14, 128)       0         \n",
            "_________________________________________________________________\n",
            "conv2d_11 (Conv2D)           (None, 14, 14, 128)       147584    \n",
            "_________________________________________________________________\n",
            "batch_normalization_7 (Batch (None, 14, 14, 128)       512       \n",
            "_________________________________________________________________\n",
            "max_pooling2d_11 (MaxPooling (None, 7, 7, 128)         0         \n",
            "_________________________________________________________________\n",
            "conv2d_12 (Conv2D)           (None, 7, 7, 512)         590336    \n",
            "_________________________________________________________________\n",
            "batch_normalization_8 (Batch (None, 7, 7, 512)         2048      \n",
            "_________________________________________________________________\n",
            "max_pooling2d_12 (MaxPooling (None, 3, 3, 512)         0         \n",
            "_________________________________________________________________\n",
            "dropout_8 (Dropout)          (None, 3, 3, 512)         0         \n",
            "_________________________________________________________________\n",
            "flatten_2 (Flatten)          (None, 4608)              0         \n",
            "_________________________________________________________________\n",
            "dense_3 (Dense)              (None, 256)               1179904   \n",
            "_________________________________________________________________\n",
            "dense_4 (Dense)              (None, 25)                6425      \n",
            "=================================================================\n",
            "Total params: 2,058,041\n",
            "Trainable params: 2,056,377\n",
            "Non-trainable params: 1,664\n",
            "_________________________________________________________________\n"
          ],
          "name": "stdout"
        }
      ]
    },
    {
      "cell_type": "code",
      "metadata": {
        "id": "38wCl3xSt6kY"
      },
      "source": [
        "model.compile(loss ='categorical_crossentropy', \n",
        "                     optimizer =\"Adam\", \n",
        "                   metrics =['accuracy']) "
      ],
      "execution_count": null,
      "outputs": []
    },
    {
      "cell_type": "code",
      "metadata": {
        "id": "PrPtxMVTuINP",
        "colab": {
          "base_uri": "https://localhost:8080/",
          "height": 1000
        },
        "outputId": "aa61854b-4530-46d3-ba51-a6ce297bc02a"
      },
      "source": [
        "callback = keras.callbacks.EarlyStopping(monitor='val_loss',\n",
        "                                            patience=10, verbose=1, mode='auto')\n",
        "\n",
        "history = model.fit_generator(train_generator,\n",
        "                              validation_data=validation_generator,\n",
        "                              steps_per_epoch=25,\n",
        "                              epochs=100,\n",
        "                              validation_steps=25\n",
        "                              )#callbacks = [callback]"
      ],
      "execution_count": null,
      "outputs": [
        {
          "output_type": "stream",
          "text": [
            "Epoch 1/100\n",
            "25/25 [==============================] - 273s 11s/step - loss: 170.0577 - accuracy: 0.0880 - val_loss: 148.4375 - val_accuracy: 0.0193\n",
            "Epoch 2/100\n",
            "25/25 [==============================] - 99s 4s/step - loss: 126.7703 - accuracy: 0.1760 - val_loss: 105.9338 - val_accuracy: 0.0220\n",
            "Epoch 3/100\n",
            "25/25 [==============================] - 171s 7s/step - loss: 89.5231 - accuracy: 0.2320 - val_loss: 76.3192 - val_accuracy: 0.0220\n",
            "Epoch 4/100\n",
            "25/25 [==============================] - 61s 2s/step - loss: 65.7966 - accuracy: 0.2610 - val_loss: 58.5395 - val_accuracy: 0.0689\n",
            "Epoch 5/100\n",
            "25/25 [==============================] - 5s 186ms/step - loss: 51.4736 - accuracy: 0.2773 - val_loss: 45.9540 - val_accuracy: 0.0331\n",
            "Epoch 6/100\n",
            "25/25 [==============================] - 4s 177ms/step - loss: 41.2148 - accuracy: 0.3173 - val_loss: 39.3442 - val_accuracy: 0.0303\n",
            "Epoch 7/100\n",
            "25/25 [==============================] - 5s 193ms/step - loss: 34.9511 - accuracy: 0.3132 - val_loss: 36.0470 - val_accuracy: 0.0689\n",
            "Epoch 8/100\n",
            "25/25 [==============================] - 5s 185ms/step - loss: 30.9198 - accuracy: 0.2560 - val_loss: 30.0243 - val_accuracy: 0.0220\n",
            "Epoch 9/100\n",
            "25/25 [==============================] - 5s 181ms/step - loss: 26.7011 - accuracy: 0.2933 - val_loss: 33.7611 - val_accuracy: 0.0220\n",
            "Epoch 10/100\n",
            "25/25 [==============================] - 4s 167ms/step - loss: 23.4753 - accuracy: 0.2637 - val_loss: 24.0052 - val_accuracy: 0.0193\n",
            "Epoch 11/100\n",
            "25/25 [==============================] - 5s 213ms/step - loss: 21.7770 - accuracy: 0.2390 - val_loss: 24.3082 - val_accuracy: 0.1102\n",
            "Epoch 12/100\n",
            "25/25 [==============================] - 5s 198ms/step - loss: 22.7199 - accuracy: 0.2693 - val_loss: 22.4111 - val_accuracy: 0.0661\n",
            "Epoch 13/100\n",
            "25/25 [==============================] - 5s 185ms/step - loss: 19.3327 - accuracy: 0.2667 - val_loss: 22.9520 - val_accuracy: 0.0303\n",
            "Epoch 14/100\n",
            "25/25 [==============================] - 5s 186ms/step - loss: 19.2208 - accuracy: 0.2773 - val_loss: 22.7476 - val_accuracy: 0.0689\n",
            "Epoch 15/100\n",
            "25/25 [==============================] - 5s 181ms/step - loss: 18.1212 - accuracy: 0.2533 - val_loss: 17.0048 - val_accuracy: 0.0275\n",
            "Epoch 16/100\n",
            "25/25 [==============================] - 5s 204ms/step - loss: 18.0626 - accuracy: 0.2637 - val_loss: 20.7978 - val_accuracy: 0.0689\n",
            "Epoch 17/100\n",
            "25/25 [==============================] - 5s 184ms/step - loss: 17.7721 - accuracy: 0.2640 - val_loss: 17.9224 - val_accuracy: 0.0331\n",
            "Epoch 18/100\n",
            "25/25 [==============================] - 5s 180ms/step - loss: 16.3785 - accuracy: 0.2857 - val_loss: 19.6709 - val_accuracy: 0.0303\n",
            "Epoch 19/100\n",
            "25/25 [==============================] - 5s 195ms/step - loss: 16.1499 - accuracy: 0.2507 - val_loss: 20.7136 - val_accuracy: 0.0220\n",
            "Epoch 20/100\n",
            "25/25 [==============================] - 4s 160ms/step - loss: 13.9513 - accuracy: 0.3360 - val_loss: 15.7244 - val_accuracy: 0.0248\n",
            "Epoch 21/100\n",
            "25/25 [==============================] - 6s 228ms/step - loss: 13.2712 - accuracy: 0.3600 - val_loss: 14.5557 - val_accuracy: 0.0331\n",
            "Epoch 22/100\n",
            "25/25 [==============================] - 5s 191ms/step - loss: 13.7690 - accuracy: 0.2987 - val_loss: 24.0239 - val_accuracy: 0.0386\n",
            "Epoch 23/100\n",
            "25/25 [==============================] - 4s 177ms/step - loss: 13.3223 - accuracy: 0.3333 - val_loss: 19.9160 - val_accuracy: 0.0055\n",
            "Epoch 24/100\n",
            "25/25 [==============================] - 5s 205ms/step - loss: 13.8175 - accuracy: 0.3462 - val_loss: 22.7827 - val_accuracy: 0.0358\n",
            "Epoch 25/100\n",
            "25/25 [==============================] - 4s 176ms/step - loss: 13.5961 - accuracy: 0.3227 - val_loss: 18.4415 - val_accuracy: 0.0826\n",
            "Epoch 26/100\n",
            "25/25 [==============================] - 5s 188ms/step - loss: 13.3706 - accuracy: 0.3407 - val_loss: 23.0893 - val_accuracy: 0.0303\n",
            "Epoch 27/100\n",
            "25/25 [==============================] - 5s 191ms/step - loss: 11.7360 - accuracy: 0.3600 - val_loss: 14.1773 - val_accuracy: 0.0303\n",
            "Epoch 28/100\n",
            "25/25 [==============================] - 4s 178ms/step - loss: 11.2895 - accuracy: 0.4368 - val_loss: 17.1100 - val_accuracy: 0.0331\n",
            "Epoch 29/100\n",
            "25/25 [==============================] - 4s 177ms/step - loss: 11.8379 - accuracy: 0.3387 - val_loss: 25.0979 - val_accuracy: 0.0303\n",
            "Epoch 30/100\n",
            "25/25 [==============================] - 4s 179ms/step - loss: 11.0505 - accuracy: 0.3920 - val_loss: 10.7589 - val_accuracy: 0.0358\n",
            "Epoch 31/100\n",
            "25/25 [==============================] - 6s 222ms/step - loss: 10.6275 - accuracy: 0.4176 - val_loss: 18.3402 - val_accuracy: 0.0606\n",
            "Epoch 32/100\n",
            "25/25 [==============================] - 4s 179ms/step - loss: 10.3291 - accuracy: 0.4400 - val_loss: 14.3124 - val_accuracy: 0.0634\n",
            "Epoch 33/100\n",
            "25/25 [==============================] - 4s 174ms/step - loss: 11.0292 - accuracy: 0.3760 - val_loss: 14.4168 - val_accuracy: 0.0303\n",
            "Epoch 34/100\n",
            "25/25 [==============================] - 5s 200ms/step - loss: 9.7539 - accuracy: 0.4880 - val_loss: 17.2106 - val_accuracy: 0.0358\n",
            "Epoch 35/100\n",
            "25/25 [==============================] - 4s 175ms/step - loss: 9.8487 - accuracy: 0.4560 - val_loss: 17.3226 - val_accuracy: 0.0744\n",
            "Epoch 36/100\n",
            "25/25 [==============================] - 4s 172ms/step - loss: 9.1026 - accuracy: 0.5055 - val_loss: 10.2471 - val_accuracy: 0.0826\n",
            "Epoch 37/100\n",
            "25/25 [==============================] - 5s 186ms/step - loss: 11.7372 - accuracy: 0.3707 - val_loss: 29.9137 - val_accuracy: 0.0303\n",
            "Epoch 38/100\n",
            "25/25 [==============================] - 5s 196ms/step - loss: 9.9349 - accuracy: 0.4480 - val_loss: 13.9042 - val_accuracy: 0.0441\n",
            "Epoch 39/100\n",
            "25/25 [==============================] - 4s 171ms/step - loss: 10.1696 - accuracy: 0.4121 - val_loss: 13.9979 - val_accuracy: 0.1515\n",
            "Epoch 40/100\n",
            "25/25 [==============================] - 5s 197ms/step - loss: 9.8956 - accuracy: 0.4960 - val_loss: 23.6567 - val_accuracy: 0.0303\n",
            "Epoch 41/100\n",
            "25/25 [==============================] - 5s 195ms/step - loss: 9.0021 - accuracy: 0.5165 - val_loss: 11.5865 - val_accuracy: 0.0937\n",
            "Epoch 42/100\n",
            "25/25 [==============================] - 4s 176ms/step - loss: 9.3174 - accuracy: 0.4853 - val_loss: 24.8035 - val_accuracy: 0.0468\n",
            "Epoch 43/100\n",
            "25/25 [==============================] - 5s 202ms/step - loss: 9.1935 - accuracy: 0.4960 - val_loss: 17.7815 - val_accuracy: 0.0441\n",
            "Epoch 44/100\n",
            "25/25 [==============================] - 5s 180ms/step - loss: 9.3872 - accuracy: 0.5040 - val_loss: 17.7801 - val_accuracy: 0.0689\n",
            "Epoch 45/100\n",
            "25/25 [==============================] - 5s 182ms/step - loss: 8.6090 - accuracy: 0.5280 - val_loss: 13.3671 - val_accuracy: 0.0634\n",
            "Epoch 46/100\n",
            "25/25 [==============================] - 5s 190ms/step - loss: 8.9981 - accuracy: 0.5220 - val_loss: 10.3008 - val_accuracy: 0.0689\n",
            "Epoch 47/100\n",
            "25/25 [==============================] - 4s 161ms/step - loss: 8.9650 - accuracy: 0.5627 - val_loss: 10.1616 - val_accuracy: 0.0303\n",
            "Epoch 48/100\n",
            "25/25 [==============================] - 6s 226ms/step - loss: 8.6689 - accuracy: 0.5220 - val_loss: 11.2417 - val_accuracy: 0.0606\n",
            "Epoch 49/100\n",
            "25/25 [==============================] - 4s 177ms/step - loss: 8.8374 - accuracy: 0.4880 - val_loss: 15.1226 - val_accuracy: 0.0964\n",
            "Epoch 50/100\n",
            "25/25 [==============================] - 4s 174ms/step - loss: 8.3607 - accuracy: 0.5280 - val_loss: 20.8182 - val_accuracy: 0.0744\n",
            "Epoch 51/100\n",
            "25/25 [==============================] - 5s 213ms/step - loss: 8.0903 - accuracy: 0.5573 - val_loss: 24.2347 - val_accuracy: 0.0303\n",
            "Epoch 52/100\n",
            "25/25 [==============================] - 5s 183ms/step - loss: 8.0441 - accuracy: 0.5947 - val_loss: 23.3775 - val_accuracy: 0.0303\n",
            "Epoch 53/100\n",
            "25/25 [==============================] - 4s 172ms/step - loss: 8.5703 - accuracy: 0.5495 - val_loss: 25.0114 - val_accuracy: 0.0634\n",
            "Epoch 54/100\n",
            "25/25 [==============================] - 5s 197ms/step - loss: 9.4242 - accuracy: 0.6027 - val_loss: 14.4850 - val_accuracy: 0.0854\n",
            "Epoch 55/100\n",
            "25/25 [==============================] - 4s 179ms/step - loss: 8.5641 - accuracy: 0.5013 - val_loss: 12.4473 - val_accuracy: 0.0413\n",
            "Epoch 56/100\n",
            "25/25 [==============================] - 5s 185ms/step - loss: 8.8558 - accuracy: 0.5040 - val_loss: 15.5350 - val_accuracy: 0.0303\n",
            "Epoch 57/100\n",
            "25/25 [==============================] - 4s 161ms/step - loss: 8.1267 - accuracy: 0.5110 - val_loss: 12.5793 - val_accuracy: 0.0441\n",
            "Epoch 58/100\n",
            "25/25 [==============================] - 6s 220ms/step - loss: 8.0700 - accuracy: 0.5520 - val_loss: 34.1242 - val_accuracy: 0.0303\n",
            "Epoch 59/100\n",
            "25/25 [==============================] - 5s 189ms/step - loss: 7.6592 - accuracy: 0.5093 - val_loss: 23.4508 - val_accuracy: 0.0303\n",
            "Epoch 60/100\n",
            "25/25 [==============================] - 4s 172ms/step - loss: 7.5360 - accuracy: 0.6126 - val_loss: 26.8000 - val_accuracy: 0.0303\n",
            "Epoch 61/100\n",
            "25/25 [==============================] - 5s 188ms/step - loss: 7.4016 - accuracy: 0.5947 - val_loss: 29.8306 - val_accuracy: 0.0303\n",
            "Epoch 62/100\n",
            "25/25 [==============================] - 5s 181ms/step - loss: 7.0300 - accuracy: 0.6160 - val_loss: 13.6499 - val_accuracy: 0.0413\n",
            "Epoch 63/100\n",
            "25/25 [==============================] - 5s 193ms/step - loss: 7.5261 - accuracy: 0.5600 - val_loss: 25.2057 - val_accuracy: 0.0303\n",
            "Epoch 64/100\n",
            "25/25 [==============================] - 4s 179ms/step - loss: 8.4422 - accuracy: 0.5581 - val_loss: 17.6203 - val_accuracy: 0.0579\n",
            "Epoch 65/100\n",
            "25/25 [==============================] - 5s 182ms/step - loss: 8.3991 - accuracy: 0.5467 - val_loss: 10.5561 - val_accuracy: 0.0606\n",
            "Epoch 66/100\n",
            "25/25 [==============================] - 5s 201ms/step - loss: 7.7275 - accuracy: 0.5627 - val_loss: 15.0196 - val_accuracy: 0.0303\n",
            "Epoch 67/100\n",
            "25/25 [==============================] - 4s 162ms/step - loss: 7.3344 - accuracy: 0.6240 - val_loss: 9.2937 - val_accuracy: 0.0854\n",
            "Epoch 68/100\n",
            "25/25 [==============================] - 5s 203ms/step - loss: 6.9914 - accuracy: 0.6240 - val_loss: 25.7355 - val_accuracy: 0.0303\n"
          ],
          "name": "stdout"
        }
      ]
    },
    {
      "cell_type": "code",
      "metadata": {
        "id": "RxFRn2kWvT7n"
      },
      "source": [
        "# model.save_weights('model_saved.h5') "
      ],
      "execution_count": null,
      "outputs": []
    },
    {
      "cell_type": "code",
      "metadata": {
        "id": "JTBbl8qIT0rX"
      },
      "source": [
        ""
      ],
      "execution_count": null,
      "outputs": []
    },
    {
      "cell_type": "code",
      "metadata": {
        "id": "mSsHsgGLvtwe",
        "colab": {
          "base_uri": "https://localhost:8080/",
          "height": 390
        },
        "outputId": "d887cf72-2e7c-4e63-a564-354e8d935acc"
      },
      "source": [
        "import tensorflow as tf\n",
        "from tensorflow import keras\n",
        "import h5py\n",
        "\n",
        "model.save('modelbank.h5')\n",
        "loaded_model = keras.models.load_model('modelbank.h5')\n",
        "acc = history.history['accuracy']\n",
        "val_acc = history.history['val_accuracy']\n",
        "\n",
        "loss = history.history['loss']\n",
        "val_loss = history.history['val_loss']\n",
        "\n",
        "epochs_range = range(11)\n",
        "\n",
        "plt.figure(figsize=(15, 6))\n",
        "plt.subplot(1, 2, 1)\n",
        "plt.plot(epochs_range, acc, label='Training Accuracy')\n",
        "plt.plot(epochs_range, val_acc, label='Validation Accuracy')\n",
        "plt.legend(loc='lower right')\n",
        "plt.title('Training and Validation Accuracy')\n",
        "\n",
        "plt.subplot(1, 2, 2)\n",
        "plt.plot(epochs_range, loss, label='Training Loss')\n",
        "plt.plot(epochs_range, val_loss, label='Validation Loss')\n",
        "plt.legend(loc='upper right')\n",
        "plt.title('Training and Validation Loss')\n",
        "plt.show()"
      ],
      "execution_count": null,
      "outputs": [
        {
          "output_type": "display_data",
          "data": {
            "image/png": "[encoded data removed]",
            "text/plain": [
              "<Figure size 1080x432 with 2 Axes>"
            ]
          },
          "metadata": {
            "tags": [],
            "needs_background": "light"
          }
        }
      ]
    },
    {
      "cell_type": "code",
      "metadata": {
        "id": "iSPrdPTmYeLz",
        "colab": {
          "base_uri": "https://localhost:8080/",
          "height": 223
        },
        "outputId": "ed98543a-561b-4631-d85f-0d542a81d912"
      },
      "source": [
        "from tensorflow.keras.models import load_model\n",
        "import cv2\n",
        "import numpy as np\n",
        "\n",
        "loaded_model = keras.models.load_model('modelbank.h5')\n",
        "\n",
        "img = cv2.imread('/content/drive/My Drive/bb_04.jpg')\n",
        "img = cv2.resize(img,(180,180))\n",
        "img = np.reshape(img,[1,180,180,3])\n",
        "classes = model.predict(img)\n",
        "print(classes)\n",
        "np.argmax(classes)\n"
      ],
      "execution_count": null,
      "outputs": [
        {
          "output_type": "error",
          "ename": "NameError",
          "evalue": "ignored",
          "traceback": [
            "\u001b[0;31m---------------------------------------------------------------------------\u001b[0m",
            "\u001b[0;31mNameError\u001b[0m                                 Traceback (most recent call last)",
            "\u001b[0;32m<ipython-input-1-8f398d00e3c7>\u001b[0m in \u001b[0;36m<module>\u001b[0;34m()\u001b[0m\n\u001b[1;32m      3\u001b[0m \u001b[0;32mimport\u001b[0m \u001b[0mnumpy\u001b[0m \u001b[0;32mas\u001b[0m \u001b[0mnp\u001b[0m\u001b[0;34m\u001b[0m\u001b[0;34m\u001b[0m\u001b[0m\n\u001b[1;32m      4\u001b[0m \u001b[0;34m\u001b[0m\u001b[0m\n\u001b[0;32m----> 5\u001b[0;31m \u001b[0mloaded_model\u001b[0m \u001b[0;34m=\u001b[0m \u001b[0mkeras\u001b[0m\u001b[0;34m.\u001b[0m\u001b[0mmodels\u001b[0m\u001b[0;34m.\u001b[0m\u001b[0mload_model\u001b[0m\u001b[0;34m(\u001b[0m\u001b[0;34m'modelbank.h5'\u001b[0m\u001b[0;34m)\u001b[0m\u001b[0;34m\u001b[0m\u001b[0;34m\u001b[0m\u001b[0m\n\u001b[0m\u001b[1;32m      6\u001b[0m \u001b[0;34m\u001b[0m\u001b[0m\n\u001b[1;32m      7\u001b[0m \u001b[0mimg\u001b[0m \u001b[0;34m=\u001b[0m \u001b[0mcv2\u001b[0m\u001b[0;34m.\u001b[0m\u001b[0mimread\u001b[0m\u001b[0;34m(\u001b[0m\u001b[0;34m'/content/drive/My Drive/bb_04.jpg'\u001b[0m\u001b[0;34m)\u001b[0m\u001b[0;34m\u001b[0m\u001b[0;34m\u001b[0m\u001b[0m\n",
            "\u001b[0;31mNameError\u001b[0m: name 'keras' is not defined"
          ]
        }
      ]
    },
    {
      "cell_type": "code",
      "metadata": {
        "id": "gd5lyjoMq-TE",
        "colab": {
          "base_uri": "https://localhost:8080/",
          "height": 50
        },
        "outputId": "c2ccee06-ef3b-4e11-c435-da89761b0377"
      },
      "source": [
        "from tensorflow.keras.models import load_model\n",
        "import cv2\n",
        "import numpy as np\n",
        "\n",
        "loaded_model = keras.models.load_model('modelbank.h5')\n",
        "\n",
        "img = cv2.imread('/content/drive/My Drive/0.png')\n",
        "img = cv2.resize(img,(180,180))\n",
        "img = np.reshape(img,[1,180,180,3])\n",
        "classes = model.predict(img)\n",
        "print(classes)\n",
        "np.argmax(classes)\n"
      ],
      "execution_count": null,
      "outputs": [
        {
          "output_type": "stream",
          "text": [
            "[[0. 0. 0. 0. 0. 1. 0.]]\n"
          ],
          "name": "stdout"
        },
        {
          "output_type": "execute_result",
          "data": {
            "text/plain": [
              "5"
            ]
          },
          "metadata": {
            "tags": []
          },
          "execution_count": 64
        }
      ]
    },
    {
      "cell_type": "code",
      "metadata": {
        "id": "SKDoPRXAq_3e",
        "colab": {
          "base_uri": "https://localhost:8080/",
          "height": 50
        },
        "outputId": "9acfa821-da4b-43da-f7f4-2b0b52ecf6a9"
      },
      "source": [
        "from tensorflow.keras.models import load_model\n",
        "import cv2\n",
        "import numpy as np\n",
        "\n",
        "loaded_model = keras.models.load_model('modelbank.h5')\n",
        "\n",
        "img = cv2.imread('/content/drive/My Drive/1024px-ICICI_Bank_Logo.svg.png')\n",
        "img = cv2.resize(img,(180,180))\n",
        "img = np.reshape(img,[1,180,180,3])\n",
        "classes = model.predict(img)\n",
        "print(classes)\n",
        "np.argmax(classes)\n"
      ],
      "execution_count": null,
      "outputs": [
        {
          "output_type": "stream",
          "text": [
            "[[0. 1. 0. 0. 0. 0. 0.]]\n"
          ],
          "name": "stdout"
        },
        {
          "output_type": "execute_result",
          "data": {
            "text/plain": [
              "1"
            ]
          },
          "metadata": {
            "tags": []
          },
          "execution_count": 65
        }
      ]
    },
    {
      "cell_type": "code",
      "metadata": {
        "id": "kppOfPcQq_tj",
        "colab": {
          "base_uri": "https://localhost:8080/",
          "height": 50
        },
        "outputId": "0330fd59-b7bd-480e-bed3-cc1e07617758"
      },
      "source": [
        "from tensorflow.keras.models import load_model\n",
        "import cv2\n",
        "import numpy as np\n",
        "\n",
        "loaded_model = keras.models.load_model('modelbank.h5')\n",
        "\n",
        "img = cv2.imread('/content/drive/My Drive/220px-IDBI_Federal_Life_Insurance.sv.png')\n",
        "img = cv2.resize(img,(180,180))\n",
        "img = np.reshape(img,[1,180,180,3])\n",
        "classes = model.predict(img)\n",
        "print(classes)\n",
        "np.argmax(classes)\n"
      ],
      "execution_count": null,
      "outputs": [
        {
          "output_type": "stream",
          "text": [
            "[[0. 1. 0. 0. 0. 0. 0.]]\n"
          ],
          "name": "stdout"
        },
        {
          "output_type": "execute_result",
          "data": {
            "text/plain": [
              "1"
            ]
          },
          "metadata": {
            "tags": []
          },
          "execution_count": 66
        }
      ]
    },
    {
      "cell_type": "code",
      "metadata": {
        "id": "2JoBNClnq_je"
      },
      "source": [
        ""
      ],
      "execution_count": null,
      "outputs": []
    },
    {
      "cell_type": "code",
      "metadata": {
        "id": "4pAtF3U4q_X9"
      },
      "source": [
        ""
      ],
      "execution_count": null,
      "outputs": []
    },
    {
      "cell_type": "code",
      "metadata": {
        "id": "3iqRg4dcq_Nr"
      },
      "source": [
        ""
      ],
      "execution_count": null,
      "outputs": []
    },
    {
      "cell_type": "code",
      "metadata": {
        "id": "Mwsmty4-q_D-"
      },
      "source": [
        ""
      ],
      "execution_count": null,
      "outputs": []
    },
    {
      "cell_type": "code",
      "metadata": {
        "id": "-OLfppIAq-6P"
      },
      "source": [
        ""
      ],
      "execution_count": null,
      "outputs": []
    },
    {
      "cell_type": "code",
      "metadata": {
        "id": "p_KpjQlRq-rs"
      },
      "source": [
        ""
      ],
      "execution_count": null,
      "outputs": []
    },
    {
      "cell_type": "code",
      "metadata": {
        "id": "HynddEphWPVW",
        "colab": {
          "base_uri": "https://localhost:8080/",
          "height": 50
        },
        "outputId": "736ea854-01a3-4d9f-d429-167ca015c5e2"
      },
      "source": [
        "from tensorflow.keras.models import load_model\n",
        "import cv2\n",
        "import numpy as np\n",
        "\n",
        "loaded_model = keras.models.load_model('modelbank.h5')\n",
        "\n",
        "img = cv2.imread('/content/drive/My Drive/img0.png')\n",
        "img = cv2.resize(img,(180,180))\n",
        "img = np.reshape(img,[1,180,180,3])\n",
        "classes = model.predict(img)\n",
        "print(classes)\n",
        "np.argmax(classes)\n"
      ],
      "execution_count": null,
      "outputs": [
        {
          "output_type": "stream",
          "text": [
            "[[0. 0. 0. 0. 0. 0. 0. 0. 0. 0. 0. 1. 0. 0. 0. 0. 0. 0. 0. 0.]]\n"
          ],
          "name": "stdout"
        },
        {
          "output_type": "execute_result",
          "data": {
            "text/plain": [
              "11"
            ]
          },
          "metadata": {
            "tags": []
          },
          "execution_count": 40
        }
      ]
    },
    {
      "cell_type": "code",
      "metadata": {
        "id": "eJujd_eEZdHI",
        "colab": {
          "base_uri": "https://localhost:8080/",
          "height": 223
        },
        "outputId": "11bace08-b90c-46ef-b5b2-2fdf87268189"
      },
      "source": [
        "for things in classes:  \n",
        "    if(things == 0):\n",
        "        print('%d.Abhyudaya co-operative bank limited '%(i))\n",
        "    elif(things==1):\n",
        "        print('%d.ABN amro bank'%(i))\n",
        "    elif(things==2):\n",
        "        print('%d.Abu Dhabi Commercial Bank PJSC'%(i))\n",
        "    elif(things==3):\n",
        "        print('%d.Allahabad Bank'%(i))\n",
        "    elif(things==4):\n",
        "        print('%d.AMERICAN EXPRESS'%(i))\n",
        "    elif(things==5):\n",
        "        print('%d.Andhra bank'%(i))\n",
        "    elif(things==6):\n",
        "        print('%d.Axis bank'%(i))\n",
        "    elif(things==7): \n",
        "        print('%d.bank of maharashtra'%(i))\n",
        "    elif(things==8):\n",
        "        print('%d.Indusind bank'%(i))\n",
        "    elif(things==9):\n",
        "        print('%d.UCO bank'%(i))\n",
        "    # elif(things==)    "
      ],
      "execution_count": null,
      "outputs": [
        {
          "output_type": "error",
          "ename": "ValueError",
          "evalue": "ignored",
          "traceback": [
            "\u001b[0;31m---------------------------------------------------------------------------\u001b[0m",
            "\u001b[0;31mValueError\u001b[0m                                Traceback (most recent call last)",
            "\u001b[0;32m<ipython-input-54-ac5628629278>\u001b[0m in \u001b[0;36m<module>\u001b[0;34m()\u001b[0m\n\u001b[1;32m      1\u001b[0m \u001b[0;32mfor\u001b[0m \u001b[0mthings\u001b[0m \u001b[0;32min\u001b[0m \u001b[0mclasses\u001b[0m\u001b[0;34m:\u001b[0m\u001b[0;34m\u001b[0m\u001b[0;34m\u001b[0m\u001b[0m\n\u001b[0;32m----> 2\u001b[0;31m     \u001b[0;32mif\u001b[0m\u001b[0;34m(\u001b[0m\u001b[0mthings\u001b[0m \u001b[0;34m==\u001b[0m \u001b[0;36m0\u001b[0m\u001b[0;34m)\u001b[0m\u001b[0;34m:\u001b[0m\u001b[0;34m\u001b[0m\u001b[0;34m\u001b[0m\u001b[0m\n\u001b[0m\u001b[1;32m      3\u001b[0m         \u001b[0mprint\u001b[0m\u001b[0;34m(\u001b[0m\u001b[0;34m'%d.Abhyudaya co-operative bank limited '\u001b[0m\u001b[0;34m%\u001b[0m\u001b[0;34m(\u001b[0m\u001b[0mi\u001b[0m\u001b[0;34m)\u001b[0m\u001b[0;34m)\u001b[0m\u001b[0;34m\u001b[0m\u001b[0;34m\u001b[0m\u001b[0m\n\u001b[1;32m      4\u001b[0m     \u001b[0;32melif\u001b[0m\u001b[0;34m(\u001b[0m\u001b[0mthings\u001b[0m\u001b[0;34m==\u001b[0m\u001b[0;36m1\u001b[0m\u001b[0;34m)\u001b[0m\u001b[0;34m:\u001b[0m\u001b[0;34m\u001b[0m\u001b[0;34m\u001b[0m\u001b[0m\n\u001b[1;32m      5\u001b[0m         \u001b[0mprint\u001b[0m\u001b[0;34m(\u001b[0m\u001b[0;34m'%d.ABN amro bank'\u001b[0m\u001b[0;34m%\u001b[0m\u001b[0;34m(\u001b[0m\u001b[0mi\u001b[0m\u001b[0;34m)\u001b[0m\u001b[0;34m)\u001b[0m\u001b[0;34m\u001b[0m\u001b[0;34m\u001b[0m\u001b[0m\n",
            "\u001b[0;31mValueError\u001b[0m: The truth value of an array with more than one element is ambiguous. Use a.any() or a.all()"
          ]
        }
      ]
    },
    {
      "cell_type": "code",
      "metadata": {
        "id": "Yzd8SRMWdf14",
        "colab": {
          "base_uri": "https://localhost:8080/",
          "height": 34
        },
        "outputId": "72a8ea0a-47a8-486a-d300-acc978600a67"
      },
      "source": [
        ""
      ],
      "execution_count": null,
      "outputs": [
        {
          "output_type": "execute_result",
          "data": {
            "text/plain": [
              "numpy.ndarray"
            ]
          },
          "metadata": {
            "tags": []
          },
          "execution_count": 54
        }
      ]
    },
    {
      "cell_type": "code",
      "metadata": {
        "id": "cvcJpUoNdkfJ",
        "colab": {
          "base_uri": "https://localhost:8080/",
          "height": 34
        },
        "outputId": "299b30c0-3f0d-496f-bad4-ab1ca1a802b9"
      },
      "source": [
        "type(np.int_(classes))"
      ],
      "execution_count": null,
      "outputs": [
        {
          "output_type": "execute_result",
          "data": {
            "text/plain": [
              "numpy.int64"
            ]
          },
          "metadata": {
            "tags": []
          },
          "execution_count": 61
        }
      ]
    },
    {
      "cell_type": "code",
      "metadata": {
        "id": "IBlISLoqnf02"
      },
      "source": [
        "import PyPDF2\n",
        "from PIL import Image\n",
        "\n",
        "\n",
        "pdf = r\"C:\\Users\\Harsh\\Desktop\\muc intern\\New prog\\New Pdf\\hdfc1.pdf\"  #uploaded pdf file\n",
        "\n",
        "if __name__ == '__main__':\n",
        "    input1 = PyPDF2.PdfFileReader(open(pdf, \"rb\"))\n",
        "    page0 = input1.getPage(30)\n",
        "\n",
        "    if '/XObject' in page0['/Resources']:\n",
        "        xObject = page0['/Resources']['/XObject'].getObject()\n",
        "\n",
        "        for obj in xObject:\n",
        "            if xObject[obj]['/Subtype'] == '/Image':\n",
        "                size = (xObject[obj]['/Width'], xObject[obj]['/Height'])\n",
        "                data = xObject[obj].getData()\n",
        "                if xObject[obj]['/ColorSpace'] == '/DeviceRGB':\n",
        "                    mode = \"RGB\"\n",
        "                else:\n",
        "                    mode = \"P\"\n",
        "                \n",
        "                if '/Filter' in xObject[obj]:\n",
        "                    if xObject[obj]['/Filter'] == '/FlateDecode':\n",
        "                        img = Image.frombytes(mode, size, data)\n",
        "                        img.save(obj[1:] + \".png\")\n",
        "                    elif xObject[obj]['/Filter'] == '/DCTDecode':\n",
        "                        img = open(obj[1:] + \".jpg\", \"wb\")\n",
        "                        img.write(data)\n",
        "                        img.close()\n",
        "                    elif xObject[obj]['/Filter'] == '/JPXDecode':\n",
        "                        img = open(obj[1:] + \".jp2\", \"wb\")\n",
        "                        img.write(data)\n",
        "                        img.close()\n",
        "                    elif xObject[obj]['/Filter'] == '/CCITTFaxDecode':\n",
        "                        img = open(obj[1:] + \".tiff\", \"wb\")\n",
        "                        img.write(data)\n",
        "                        img.close()\n",
        "                else:\n",
        "                    img = Image.frombytes(mode, size, data)\n",
        "                    img.save(obj[1:] + \".png\")\n",
        "    else:\n",
        "        print(\"No image found.\")"
      ],
      "execution_count": null,
      "outputs": []
    },
    {
      "cell_type": "code",
      "metadata": {
        "id": "fy6P9MAazVhK",
        "colab": {
          "base_uri": "https://localhost:8080/",
          "height": 50
        },
        "outputId": "664b85bf-7a1c-4a7a-e488-5e21d94c092f"
      },
      "source": [
        "from tensorflow.keras.models import load_model\n",
        "import cv2\n",
        "import numpy as np\n",
        "\n",
        "loaded_model = keras.models.load_model('modelbank.h5')\n",
        "\n",
        "img = cv2.imread('/content/drive/My Drive/imgbob.png')\n",
        "img = cv2.resize(img,(180,180))\n",
        "img = np.reshape(img,[1,180,180,3])\n",
        "classes = model.predict(img)\n",
        "print(classes)\n",
        "np.argmax(classes)\n"
      ],
      "execution_count": null,
      "outputs": [
        {
          "output_type": "stream",
          "text": [
            "[[0. 0. 0. 0. 0. 1. 0.]]\n"
          ],
          "name": "stdout"
        },
        {
          "output_type": "execute_result",
          "data": {
            "text/plain": [
              "5"
            ]
          },
          "metadata": {
            "tags": []
          },
          "execution_count": 27
        }
      ]
    },
    {
      "cell_type": "code",
      "metadata": {
        "id": "VEsMPF75kbwM"
      },
      "source": [
        "import sys\n",
        "import PyPDF2\n",
        "from PIL import Image\n",
        "\n",
        "\n",
        "pdf = \n",
        "\n",
        "if __name__ == '__main__':\n",
        "    input1 = PyPDF2.PdfFileReader(open(pdf, \"rb\"))\n",
        "    page0 = input1.getPage(30)\n",
        "\n",
        "    if '/XObject' in page0['/Resources']:\n",
        "        xObject = page0['/Resources']['/XObject'].getObject()\n",
        "\n",
        "        for obj in xObject:\n",
        "            if xObject[obj]['/Subtype'] == '/Image':\n",
        "                size = (xObject[obj]['/Width'], xObject[obj]['/Height'])\n",
        "                data = xObject[obj].getData()\n",
        "                if xObject[obj]['/ColorSpace'] == '/DeviceRGB':\n",
        "                    mode = \"RGB\"\n",
        "                else:\n",
        "                    mode = \"P\"\n",
        "                \n",
        "                if '/Filter' in xObject[obj]:\n",
        "                    if xObject[obj]['/Filter'] == '/FlateDecode':\n",
        "                        img = Image.frombytes(mode, size, data)\n",
        "                        img.save(obj[1:] + \".png\")\n",
        "                    elif xObject[obj]['/Filter'] == '/DCTDecode':\n",
        "                        img = open(obj[1:] + \".jpg\", \"wb\")\n",
        "                        img.write(data)\n",
        "                        img.close()\n",
        "                    elif xObject[obj]['/Filter'] == '/JPXDecode':\n",
        "                        img = open(obj[1:] + \".jp2\", \"wb\")\n",
        "                        img.write(data)\n",
        "                        img.close()\n",
        "                    elif xObject[obj]['/Filter'] == '/CCITTFaxDecode':\n",
        "                        img = open(obj[1:] + \".tiff\", \"wb\")\n",
        "                        img.write(data)\n",
        "                        img.close()\n",
        "                else:\n",
        "                    img = Image.frombytes(mode, size, data)\n",
        "                    img.save(obj[1:] + \".png\")\n",
        "    else:\n",
        "        print(\"No image found.\")"
      ],
      "execution_count": null,
      "outputs": []
    }
  ]
}